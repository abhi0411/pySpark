{
 "cells": [
  {
   "cell_type": "code",
   "execution_count": 1,
   "metadata": {},
   "outputs": [],
   "source": [
    "#import modules\n",
    "from pyspark.sql.types import *\n",
    "from pyspark.sql.functions import *\n",
    "from pyspark.ml.regression import LinearRegression\n",
    "from pyspark.ml.feature import VectorAssembler\n",
    "\n",
    "#create Spark session\n",
    "appName = \"Regression in Spark\"\n",
    "spark = SparkSession \\\n",
    "    .builder \\\n",
    "    .appName(appName) \\\n",
    "    .config(\"spark.some.configq.option\", \"some-value\") \\\n",
    "    .getOrCreate()"
   ]
  },
  {
   "cell_type": "markdown",
   "metadata": {},
   "source": [
    "# #Read data from flight.csv"
   ]
  },
  {
   "cell_type": "code",
   "execution_count": 3,
   "metadata": {},
   "outputs": [
    {
     "name": "stdout",
     "output_type": "stream",
     "text": [
      "+----------+---------+-------+---------------+-------------+--------+--------+\n",
      "|DayofMonth|DayOfWeek|Carrier|OriginAirportID|DestAirportID|DepDelay|ArrDelay|\n",
      "+----------+---------+-------+---------------+-------------+--------+--------+\n",
      "|        19|        5|     DL|          11433|        13303|      -3|       1|\n",
      "|        19|        5|     DL|          14869|        12478|       0|      -8|\n",
      "|        19|        5|     DL|          14057|        14869|      -4|     -15|\n",
      "+----------+---------+-------+---------------+-------------+--------+--------+\n",
      "only showing top 3 rows\n",
      "\n"
     ]
    }
   ],
   "source": [
    "#define our schema\n",
    "flightSchema = StructType([\n",
    "  StructField(\"DayofMonth\", IntegerType(), False),\n",
    "  StructField(\"DayOfWeek\", IntegerType(), False),\n",
    "  StructField(\"Carrier\", StringType(), False),\n",
    "  StructField(\"OriginAirportID\", IntegerType(), False),\n",
    "  StructField(\"DestAirportID\", IntegerType(), False),\n",
    "  StructField(\"DepDelay\", IntegerType(), False),\n",
    "  StructField(\"ArrDelay\", IntegerType(), False),\n",
    "])\n",
    "#read csv data with our defined schema\n",
    "flightDataFrame = spark.read.csv('dataset/flights.csv', \n",
    "                                 schema=flightSchema, header=True)\n",
    "flightDataFrame.show(3)"
   ]
  },
  {
   "cell_type": "raw",
   "metadata": {},
   "source": [
    "#Select important data for regression features¶\n"
   ]
  },
  {
   "cell_type": "code",
   "execution_count": 4,
   "metadata": {},
   "outputs": [
    {
     "name": "stdout",
     "output_type": "stream",
     "text": [
      "+----------+---------+---------------+-------------+--------+--------+\n",
      "|DayofMonth|DayOfWeek|OriginAirportID|DestAirportID|DepDelay|ArrDelay|\n",
      "+----------+---------+---------------+-------------+--------+--------+\n",
      "|        19|        5|          11433|        13303|      -3|       1|\n",
      "|        19|        5|          14869|        12478|       0|      -8|\n",
      "|        19|        5|          14057|        14869|      -4|     -15|\n",
      "+----------+---------+---------------+-------------+--------+--------+\n",
      "only showing top 3 rows\n",
      "\n"
     ]
    }
   ],
   "source": [
    "#select related column data for our regression input features\n",
    "data = flightDataFrame.select(\"DayofMonth\", \"DayOfWeek\", \n",
    "                              \"OriginAirportID\", \"DestAirportID\", \n",
    "                              \"DepDelay\", \"ArrDelay\")\n",
    "data.show(3)"
   ]
  },
  {
   "cell_type": "markdown",
   "metadata": {},
   "source": [
    "# Divide data into Training and Testing"
   ]
  },
  {
   "cell_type": "code",
   "execution_count": 10,
   "metadata": {},
   "outputs": [
    {
     "name": "stdout",
     "output_type": "stream",
     "text": [
      "Training data rows: 1891066 ; Testing data rows: 811152\n"
     ]
    }
   ],
   "source": [
    "#divide data, 70% for training, 30% for testing\n",
    "dividedData = data.randomSplit([0.7, 0.3]) \n",
    "trainingData = dividedData[0] #index 0 = data training\n",
    "testingData = dividedData[1] #index 1 = data testing\n",
    "train_rows = trainingData.count()\n",
    "test_rows = testingData.count()\n",
    "print (\"Training data rows:\", train_rows, \"; Testing data rows:\", test_rows)"
   ]
  },
  {
   "cell_type": "markdown",
   "metadata": {},
   "source": [
    "# Prepeare Training Data "
   ]
  },
  {
   "cell_type": "code",
   "execution_count": 32,
   "metadata": {},
   "outputs": [
    {
     "name": "stdout",
     "output_type": "stream",
     "text": [
      "+------------------------------+-----+\n",
      "|features                      |label|\n",
      "+------------------------------+-----+\n",
      "|[1.0,1.0,10140.0,10397.0,-4.0]|-11  |\n",
      "|[1.0,1.0,10140.0,10397.0,-2.0]|-17  |\n",
      "|[1.0,1.0,10140.0,11259.0,-3.0]|-11  |\n",
      "+------------------------------+-----+\n",
      "only showing top 3 rows\n",
      "\n"
     ]
    }
   ],
   "source": [
    "#define an assembler\n",
    "assembler = VectorAssembler(inputCols = [\n",
    "    \"DayofMonth\", \"DayOfWeek\", \"OriginAirportID\", \"DestAirportID\", \n",
    "    \"DepDelay\"], outputCol=\"features\")\n",
    "\n",
    "#change our features into one column using our defined assembler\n",
    "trainingDataFinal = assembler.transform(trainingData).select(\n",
    "    col(\"features\"), (col(\"ArrDelay\").cast(\"Int\").alias(\"label\")))\n",
    "trainingDataFinal.show(truncate=False , n=3)\n",
    "\n",
    "#trainingDataFinal.show(truncate=False , n=5)\n"
   ]
  },
  {
   "cell_type": "markdown",
   "metadata": {},
   "source": [
    "# Testing on Short Data Frame"
   ]
  },
  {
   "cell_type": "code",
   "execution_count": 31,
   "metadata": {},
   "outputs": [
    {
     "name": "stdout",
     "output_type": "stream",
     "text": [
      "+----+---+------+---+\n",
      "|name|age|height| id|\n",
      "+----+---+------+---+\n",
      "|Rony| 27|   168|  1|\n",
      "|Rony| 15|   165|  2|\n",
      "|Rony| 27|   168|  3|\n",
      "+----+---+------+---+\n",
      "\n",
      "+-------------+-----+\n",
      "|VectorNameAge|label|\n",
      "+-------------+-----+\n",
      "|[1.0,27.0]   |168  |\n",
      "|[2.0,15.0]   |165  |\n",
      "|[3.0,27.0]   |168  |\n",
      "+-------------+-----+\n",
      "\n"
     ]
    }
   ],
   "source": [
    "df = spark.createDataFrame([(\"Rony\",27, 168,1), \n",
    "                            (\"Rony\",15, 165,2), \n",
    "                            (\"Rony\",27, 168,3)], \n",
    "                           [\"name\",\"age\",\"height\",\"id\"])\n",
    "\n",
    "df.show()\n",
    "assembler1 = VectorAssembler(inputCols = [\n",
    "    \"id\", \"age\"], outputCol=\"VectorNameAge\")\n",
    "\n",
    "dfdatafinal = assembler1.transform(df).select(\n",
    "    col(\"VectorNameAge\"), (col(\"height\").alias(\"label\")))\n",
    "dfdatafinal.show(truncate=False , n=3)\n",
    "#dfdatafinal.show(truncate=True , n=3)"
   ]
  },
  {
   "cell_type": "markdown",
   "metadata": {},
   "source": [
    "# Train our regression model using training data¶\n"
   ]
  },
  {
   "cell_type": "code",
   "execution_count": 33,
   "metadata": {},
   "outputs": [
    {
     "name": "stdout",
     "output_type": "stream",
     "text": [
      "Regression model flight is trained!\n"
     ]
    }
   ],
   "source": [
    "\n",
    "#call Spark linear regression we import before\n",
    "algoritma = LinearRegression(\n",
    "    labelCol=\"label\",featuresCol=\"features\", \n",
    "    maxIter=10, regParam=0.3)\n",
    "#train the model\n",
    "model = algoritma.fit(trainingDataFinal)\n",
    "print (\"Regression model flight is trained!\")"
   ]
  },
  {
   "cell_type": "code",
   "execution_count": 35,
   "metadata": {},
   "outputs": [
    {
     "name": "stdout",
     "output_type": "stream",
     "text": [
      "Regression model for rony is trained!\n"
     ]
    }
   ],
   "source": [
    "#call Spark linear regression we import before\n",
    "algoritma1 = LinearRegression(\n",
    "    labelCol=\"label\",featuresCol=\"VectorNameAge\", \n",
    "    maxIter=10, regParam=0.3)\n",
    "#train the model\n",
    "model1 = algoritma1.fit(dfdatafinal)\n",
    "print (\"Regression model for rony is trained!\")"
   ]
  },
  {
   "cell_type": "code",
   "execution_count": 36,
   "metadata": {},
   "outputs": [
    {
     "name": "stdout",
     "output_type": "stream",
     "text": [
      "+------------------------------+---------+\n",
      "|features                      |trueLabel|\n",
      "+------------------------------+---------+\n",
      "|[1.0,1.0,10140.0,10821.0,8.0] |-9       |\n",
      "|[1.0,1.0,10140.0,11292.0,-4.0]|-8       |\n",
      "+------------------------------+---------+\n",
      "only showing top 2 rows\n",
      "\n"
     ]
    }
   ],
   "source": [
    "#change our feature data into one column using our defined assembler\n",
    "#just like what we did before in the training data\n",
    "testingDataFinal = assembler.transform(testingData).select(\n",
    "    col(\"features\"), (col(\"ArrDelay\")).cast(\"Int\").alias(\"trueLabel\"))\n",
    "testingDataFinal.show(truncate=False, n=2)"
   ]
  },
  {
   "cell_type": "markdown",
   "metadata": {},
   "source": [
    "# Predict the testing data using our trained model"
   ]
  },
  {
   "cell_type": "code",
   "execution_count": 37,
   "metadata": {},
   "outputs": [
    {
     "name": "stdout",
     "output_type": "stream",
     "text": [
      "+--------------------+---------+-------------------+\n",
      "|            features|trueLabel|         prediction|\n",
      "+--------------------+---------+-------------------+\n",
      "|[1.0,1.0,10140.0,...|       -9|  4.317688006282429|\n",
      "|[1.0,1.0,10140.0,...|       -8| -7.763666488904541|\n",
      "|[1.0,1.0,10140.0,...|       -6|-4.7703921909570015|\n",
      "+--------------------+---------+-------------------+\n",
      "only showing top 3 rows\n",
      "\n"
     ]
    }
   ],
   "source": [
    "#predict testing data using our model\n",
    "prediction = model.transform(testingDataFinal)\n",
    "#show some prediction results\n",
    "prediction.show(3)"
   ]
  },
  {
   "cell_type": "markdown",
   "metadata": {},
   "source": [
    "# Evaluate Regression Model"
   ]
  },
  {
   "cell_type": "code",
   "execution_count": 38,
   "metadata": {},
   "outputs": [
    {
     "name": "stdout",
     "output_type": "stream",
     "text": [
      "Root Mean Square Error (RMSE): 13.241877738302986\n"
     ]
    }
   ],
   "source": [
    "#import evaluator module for regression\n",
    "from pyspark.ml.evaluation import RegressionEvaluator\n",
    "\n",
    "#define our evaluator\n",
    "evaluator = RegressionEvaluator(\n",
    "    labelCol=\"trueLabel\", predictionCol=\"prediction\", metricName=\"rmse\")\n",
    "#calculate RMSE of our trained model\n",
    "rmse = evaluator.evaluate(prediction)\n",
    "print (\"Root Mean Square Error (RMSE):\", rmse)"
   ]
  }
 ],
 "metadata": {
  "kernelspec": {
   "display_name": "Python 3",
   "language": "python",
   "name": "python3"
  },
  "language_info": {
   "codemirror_mode": {
    "name": "ipython",
    "version": 3
   },
   "file_extension": ".py",
   "mimetype": "text/x-python",
   "name": "python",
   "nbconvert_exporter": "python",
   "pygments_lexer": "ipython3",
   "version": "3.7.3"
  }
 },
 "nbformat": 4,
 "nbformat_minor": 2
}
