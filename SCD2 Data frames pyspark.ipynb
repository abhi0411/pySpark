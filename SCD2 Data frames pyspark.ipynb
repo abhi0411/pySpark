{
 "cells": [
  {
   "cell_type": "markdown",
   "metadata": {},
   "source": [
    "# SCD 2 Data frames"
   ]
  },
  {
   "cell_type": "code",
   "execution_count": 12,
   "metadata": {},
   "outputs": [
    {
     "name": "stdout",
     "output_type": "stream",
     "text": [
      "+---+------+----------+----------+----------+----------+\n",
      "| id|  attr|is_current|is_deleted|start_date|  end_date|\n",
      "+---+------+----------+----------+----------+----------+\n",
      "|  1|Hello!|     false|     false|2018-01-01|2018-12-31|\n",
      "+---+------+----------+----------+----------+----------+\n",
      "\n"
     ]
    }
   ],
   "source": [
    "from pyspark.sql.functions import udf, lit, when, date_sub\n",
    "from pyspark.sql.types import ArrayType, IntegerType, StructType, StructField, StringType, BooleanType, DateType\n",
    "import json\n",
    "from pyspark import SparkContext, SparkConf, SQLContext\n",
    "from pyspark.sql import Row\n",
    "from datetime import datetime\n",
    "\n",
    "appName = \"Spark SCD Merge Example\"\n",
    "master = \"local\"\n",
    "conf = SparkConf().setAppName(appName).setMaster(master)\n",
    "#sc = SparkContext(conf=conf)\n",
    "sqlContext = SQLContext(sc)\n",
    "\n",
    "\n",
    "def quiet_logs(sc):\n",
    "    logger = sc._jvm.org.apache.log4j\n",
    "    logger.LogManager.getLogger(\"org\"). setLevel(logger.Level.ERROR)\n",
    "    logger.LogManager.getLogger(\"akka\").setLevel(logger.Level.ERROR)\n",
    "# hide info logs\n",
    "quiet_logs(sc)\n",
    "\n",
    "\n",
    "# Target data set\n",
    "\n",
    "data_target = [\n",
    "Row(1, \"Hello!\", False, False, datetime.strptime(\n",
    "'2018-01-01', '%Y-%m-%d'), datetime.strptime('2018-12-31', '%Y-%m-%d')),\n",
    "Row(1, \"Hello World!\", True, False, datetime.strptime(\n",
    "'2019-01-01', '%Y-%m-%d'), datetime.strptime('9999-12-31', '%Y-%m-%d')),\n",
    "Row(2, \"Hello Spark!\", True, False, datetime.strptime(\n",
    "'2019-02-01', '%Y-%m-%d'), datetime.strptime('9999-12-31', '%Y-%m-%d')),\n",
    "Row(3, \"Hello Old World!\", True, False, datetime.strptime(\n",
    "'2019-02-01', '%Y-%m-%d'), datetime.strptime('9999-12-31', '%Y-%m-%d'))\n",
    "]\n",
    "\n",
    "schema_target = StructType([\n",
    "StructField(\"id\", IntegerType(), True),\n",
    "StructField(\"attr\", StringType(), True),\n",
    "StructField(\"is_current\", BooleanType(), True),\n",
    "StructField(\"is_deleted\", BooleanType(), True),\n",
    "StructField(\"start_date\", DateType(), True),\n",
    "StructField(\"end_date\", DateType(), True)\n",
    "])\n",
    "\n",
    "df_targetLKP = sqlContext.createDataFrame(sc.parallelize(data_target),schema_target )\n",
    "\n",
    "#df_targetLKP.show()\n",
    "#df_targetLKP.printSchema()\n",
    "\n",
    "df_target_false = df_targetLKP.filter(df_targetLKP.is_current == 'False')\n",
    "df_target_false.show()"
   ]
  },
  {
   "cell_type": "code",
   "execution_count": 4,
   "metadata": {},
   "outputs": [
    {
     "name": "stdout",
     "output_type": "stream",
     "text": [
      "+------+--------------+\n",
      "|src_id|      src_attr|\n",
      "+------+--------------+\n",
      "|     1|  Hello World!|\n",
      "|     2|Hello PySpark!|\n",
      "|     4|  Hello Scala!|\n",
      "+------+--------------+\n",
      "\n",
      "root\n",
      " |-- src_id: integer (nullable = true)\n",
      " |-- src_attr: string (nullable = true)\n",
      "\n"
     ]
    }
   ],
   "source": [
    "# Source data set\n",
    "\n",
    "data_source = [\n",
    "Row(1, \"Hello World!\"),\n",
    "Row(2, \"Hello PySpark!\"),\n",
    "Row(4, \"Hello Scala!\")\n",
    "]\n",
    "\n",
    "schema_source = StructType([\n",
    "StructField(\"src_id\", IntegerType(), True),\n",
    "StructField(\"src_attr\", StringType(), True)\n",
    "])\n",
    "\n",
    "df_source = sqlContext.createDataFrame(sc.parallelize(data_source),schema_source)\n",
    "\n",
    "df_source.show()\n",
    "df_source.printSchema()"
   ]
  },
  {
   "cell_type": "code",
   "execution_count": 5,
   "metadata": {},
   "outputs": [
    {
     "name": "stdout",
     "output_type": "stream",
     "text": [
      "9999-12-31\n",
      "2019-07-25\n"
     ]
    }
   ],
   "source": [
    "\n",
    "high_date = datetime.strptime('9999-12-31', '%Y-%m-%d').date()\n",
    "print(high_date)\n",
    "\n",
    "current_date = datetime.today().date()\n",
    "print(current_date)\n",
    "\n",
    "# Prepare for merge - Added effective and end date\n",
    "df_source_new = df_source.withColumn('src_start_date', lit(current_date)).withColumn('src_end_date', lit(high_date))\n",
    "#df_source_new.show()"
   ]
  },
  {
   "cell_type": "code",
   "execution_count": 6,
   "metadata": {},
   "outputs": [
    {
     "name": "stdout",
     "output_type": "stream",
     "text": [
      "+---+----------------+----------+----------+----------+----------+\n",
      "| id|            attr|is_current|is_deleted|start_date|  end_date|\n",
      "+---+----------------+----------+----------+----------+----------+\n",
      "|  1|    Hello World!|      true|     false|2019-01-01|9999-12-31|\n",
      "|  2|    Hello Spark!|      true|     false|2019-02-01|9999-12-31|\n",
      "|  3|Hello Old World!|      true|     false|2019-02-01|9999-12-31|\n",
      "+---+----------------+----------+----------+----------+----------+\n",
      "\n"
     ]
    }
   ],
   "source": [
    "df_target = df_targetLKP.filter( df_targetLKP.is_current == 'true')\n",
    "df_target.show()"
   ]
  },
  {
   "cell_type": "code",
   "execution_count": 7,
   "metadata": {},
   "outputs": [
    {
     "name": "stdout",
     "output_type": "stream",
     "text": [
      "+----+----------------+----------+----------+----------+----------+------+--------------+--------------+------------+\n",
      "|  id|            attr|is_current|is_deleted|start_date|  end_date|src_id|      src_attr|src_start_date|src_end_date|\n",
      "+----+----------------+----------+----------+----------+----------+------+--------------+--------------+------------+\n",
      "|   1|    Hello World!|      true|     false|2019-01-01|9999-12-31|     1|  Hello World!|    2019-07-25|  9999-12-31|\n",
      "|   3|Hello Old World!|      true|     false|2019-02-01|9999-12-31|  null|          null|          null|        null|\n",
      "|null|            null|      null|      null|      null|      null|     4|  Hello Scala!|    2019-07-25|  9999-12-31|\n",
      "|   2|    Hello Spark!|      true|     false|2019-02-01|9999-12-31|     2|Hello PySpark!|    2019-07-25|  9999-12-31|\n",
      "+----+----------------+----------+----------+----------+----------+------+--------------+--------------+------------+\n",
      "\n"
     ]
    }
   ],
   "source": [
    "\n",
    "#df_merge = df_target_lookup.join(df_source, (df_source.src_id == df_target_lookup.id) &\n",
    "#(df_source_new.src_end_date == df_target.end_date), how='fullouter')\n",
    "\n",
    "df_merge = df_target.join(df_source_new, (df_source_new.src_id == df_target.id) , how='fullouter')\n",
    "df_merge.show()"
   ]
  },
  {
   "cell_type": "code",
   "execution_count": 8,
   "metadata": {},
   "outputs": [
    {
     "name": "stdout",
     "output_type": "stream",
     "text": [
      "+----+----------------+----------+----------+----------+----------+------+--------------+--------------+------------+--------+\n",
      "|  id|            attr|is_current|is_deleted|start_date|  end_date|src_id|      src_attr|src_start_date|src_end_date|  action|\n",
      "+----+----------------+----------+----------+----------+----------+------+--------------+--------------+------------+--------+\n",
      "|   1|    Hello World!|      true|     false|2019-01-01|9999-12-31|     1|  Hello World!|    2019-07-25|  9999-12-31|NOACTION|\n",
      "|   3|Hello Old World!|      true|     false|2019-02-01|9999-12-31|  null|          null|          null|        null|  DELETE|\n",
      "|null|            null|      null|      null|      null|      null|     4|  Hello Scala!|    2019-07-25|  9999-12-31|  INSERT|\n",
      "|   2|    Hello Spark!|      true|     false|2019-02-01|9999-12-31|     2|Hello PySpark!|    2019-07-25|  9999-12-31|  UPSERT|\n",
      "+----+----------------+----------+----------+----------+----------+------+--------------+--------------+------------+--------+\n",
      "\n"
     ]
    }
   ],
   "source": [
    "\n",
    "df_merge = df_merge.withColumn('action',\n",
    " when(df_merge.attr != df_merge.src_attr, 'UPSERT')\n",
    ".when(df_merge.src_id.isNull(), 'DELETE')\n",
    ".when(df_merge.id.isNull(), 'INSERT')\n",
    ".otherwise('NOACTION')\n",
    ")\n",
    "\n",
    "df_merge.show()"
   ]
  },
  {
   "cell_type": "code",
   "execution_count": 9,
   "metadata": {},
   "outputs": [],
   "source": [
    "# Generate the new data frames based on action code\n",
    "\n",
    "column_names = ['id', 'attr', 'is_current','is_deleted', 'start_date', 'end_date']\n",
    "\n",
    "# For records that needs no action\n",
    "\n",
    "df_merge_p1 = df_merge.filter(df_merge.action == 'NOACTION').select(column_names)\n",
    "\n",
    "# For records that needs insert only\n",
    "\n",
    "df_merge_p2 = df_merge.filter(df_merge.action == 'INSERT').select(df_merge.src_id.alias('id'),df_merge.src_attr.alias('attr'),\n",
    "lit(True).alias('is_current'),lit(False).alias('is_deleted'),df_merge.src_start_date.alias('start_date'),\n",
    "df_merge.src_end_date.alias('end_date'))\n",
    "\n",
    "# For records that needs to be deleted\n",
    "\n",
    "df_merge_p3 = df_merge.filter(df_merge.action == 'DELETE').select(column_names).withColumn('is_current', lit(False)).withColumn('is_deleted', lit(True))\n",
    "\n",
    "# For records that needs to be expired and then inserted\n",
    "\n",
    "df_merge_p4_1 = df_merge.filter(df_merge.action == 'UPSERT').select(df_merge.src_id.alias('id'),\n",
    "df_merge.src_attr.alias('attr'),lit(True).alias('is_current'),lit(False).alias('is_deleted'),\n",
    "df_merge.src_start_date.alias('start_date'),df_merge.src_end_date.alias('end_date'))\n",
    "\n",
    "df_merge_p4_2 = df_merge.filter(df_merge.action == 'UPSERT').withColumn('end_date',\n",
    "date_sub(df_merge.src_start_date, 1)).withColumn('is_current', lit(False)).withColumn('is_deleted',\n",
    "lit(False)).select(column_names)\n"
   ]
  },
  {
   "cell_type": "code",
   "execution_count": 14,
   "metadata": {},
   "outputs": [
    {
     "name": "stdout",
     "output_type": "stream",
     "text": [
      "+---+----------------+----------+----------+----------+----------+\n",
      "| id|            attr|is_current|is_deleted|start_date|  end_date|\n",
      "+---+----------------+----------+----------+----------+----------+\n",
      "|  1|          Hello!|     false|     false|2018-01-01|2018-12-31|\n",
      "|  1|    Hello World!|      true|     false|2019-01-01|9999-12-31|\n",
      "|  2|    Hello Spark!|     false|     false|2019-02-01|2019-07-24|\n",
      "|  2|  Hello PySpark!|      true|     false|2019-07-25|9999-12-31|\n",
      "|  3|Hello Old World!|     false|      true|2019-02-01|9999-12-31|\n",
      "|  4|    Hello Scala!|      true|     false|2019-07-25|9999-12-31|\n",
      "+---+----------------+----------+----------+----------+----------+\n",
      "\n"
     ]
    }
   ],
   "source": [
    "# Union all records together\n",
    "\n",
    "df_merge_final = df_merge_p1.unionAll(df_merge_p2).unionAll(\n",
    "df_merge_p3).unionAll(df_merge_p4_1).unionAll(df_merge_p4_2).unionAll(df_target_false)\n",
    "\n",
    "df_merge_final.orderBy(['id', 'start_date']).show()\n",
    "\n",
    "# At last, you can overwrite existing data using this new data frame.\n",
    "\n",
    "# ...\n",
    "\n",
    "#df_merge_final.show()"
   ]
  }
 ],
 "metadata": {
  "kernelspec": {
   "display_name": "Python 3",
   "language": "python",
   "name": "python3"
  },
  "language_info": {
   "codemirror_mode": {
    "name": "ipython",
    "version": 3
   },
   "file_extension": ".py",
   "mimetype": "text/x-python",
   "name": "python",
   "nbconvert_exporter": "python",
   "pygments_lexer": "ipython3",
   "version": "3.7.3"
  }
 },
 "nbformat": 4,
 "nbformat_minor": 2
}
