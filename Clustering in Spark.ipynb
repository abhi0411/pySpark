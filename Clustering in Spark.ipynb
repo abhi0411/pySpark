{
 "cells": [
  {
   "cell_type": "markdown",
   "metadata": {},
   "source": [
    "# Import modules and create Spark session\n"
   ]
  },
  {
   "cell_type": "code",
   "execution_count": 1,
   "metadata": {},
   "outputs": [],
   "source": [
    "#import modules\n",
    "from pyspark.ml.clustering import KMeans\n",
    "from pyspark.ml.feature import VectorAssembler\n",
    "\n",
    "#create session\n",
    "appName = \"Clustering in Spark\"\n",
    "spark = SparkSession \\\n",
    "    .builder \\\n",
    "    .appName(appName) \\\n",
    "    .config(\"spark.some.config.option\", \"some-value\") \\\n",
    "    .getOrCreate()"
   ]
  },
  {
   "cell_type": "code",
   "execution_count": 2,
   "metadata": {},
   "outputs": [],
   "source": [
    "# Read file into dataFrame\n",
    "# Description for each column data:\n",
    "# \n",
    "# CustomerName: name of customer\n",
    "# Age: age of customer (in year)/\n",
    "# MaritalStatus: (1=married, 0=not married)\n",
    "# IncomeRange: income per year (in USD)\n",
    "# Gender: (1=female, 2=male)\n",
    "# TotalChildren: number of children customer has\n",
    "# ChildrenAtHome: number of children livin/g with customer (in the same home)\n",
    "# Education: (1=high school, 2=bachelor, 3=master, 4=PhD, 5=Post-doc)\n",
    "# Occupation: (0=unskilled manual work until 5=professional)\n",
    "# HomeOwner: (1=owning a home, 0=not owning a home)\n",
    "# Cars: number of car customer has"
   ]
  },
  {
   "cell_type": "code",
   "execution_count": 3,
   "metadata": {},
   "outputs": [
    {
     "name": "stdout",
     "output_type": "stream",
     "text": [
      "+---------------+---+-------------+-----------+------+-------------+--------------+---------+----------+---------+----+\n",
      "|   CustomerName|Age|MaritalStatus|IncomeRange|Gender|TotalChildren|ChildrenAtHome|Education|Occupation|HomeOwner|Cars|\n",
      "+---------------+---+-------------+-----------+------+-------------+--------------+---------+----------+---------+----+\n",
      "|    Aaron Adams| 42|            0|      50000|     0|            0|             0|        3|         2|        1|   1|\n",
      "|Aaron Alexander| 40|            1|      50000|     0|            0|             0|        2|         2|        1|   2|\n",
      "|    Aaron Allen| 63|            0|      25000|     0|            2|             1|        2|         1|        1|   2|\n",
      "+---------------+---+-------------+-----------+------+-------------+--------------+---------+----------+---------+----+\n",
      "only showing top 3 rows\n",
      "\n"
     ]
    }
   ],
   "source": [
    "\n",
    "#read csv file using automatically inferred schema\n",
    "customers = spark.read.csv(\n",
    "    'dataset/customers.csv', inferSchema=True, header=True)\n",
    "customers.show(3)"
   ]
  },
  {
   "cell_type": "markdown",
   "metadata": {},
   "source": [
    "# Create Assembler"
   ]
  },
  {
   "cell_type": "code",
   "execution_count": 4,
   "metadata": {},
   "outputs": [],
   "source": [
    "#define assembler\n",
    "assembler = VectorAssembler(inputCols = [\n",
    "    \"Age\", \"MaritalStatus\", \"IncomeRange\", \"Gender\", \"TotalChildren\", \n",
    "    \"ChildrenAtHome\", \"Education\", \"Occupation\", \"HomeOwner\", \"Cars\"], \n",
    "                            outputCol=\"features\")\n"
   ]
  },
  {
   "cell_type": "markdown",
   "metadata": {},
   "source": [
    "# Transform Data"
   ]
  },
  {
   "cell_type": "code",
   "execution_count": 13,
   "metadata": {},
   "outputs": [
    {
     "name": "stdout",
     "output_type": "stream",
     "text": [
      "+---------------+----------------------------------------------+\n",
      "|CustomerName   |features                                      |\n",
      "+---------------+----------------------------------------------+\n",
      "|Aaron Adams    |[42.0,0.0,50000.0,0.0,0.0,0.0,3.0,2.0,1.0,1.0]|\n",
      "|Aaron Alexander|[40.0,1.0,50000.0,0.0,0.0,0.0,2.0,2.0,1.0,2.0]|\n",
      "|Aaron Allen    |[63.0,0.0,25000.0,0.0,2.0,1.0,2.0,1.0,1.0,2.0]|\n",
      "+---------------+----------------------------------------------+\n",
      "only showing top 3 rows\n",
      "\n"
     ]
    }
   ],
   "source": [
    "#data = assembler.transform(customers)\n",
    "data = assembler.transform(customers).select('CustomerName', 'features')\n",
    "data.show(truncate = False, n=3)"
   ]
  },
  {
   "cell_type": "markdown",
   "metadata": {},
   "source": [
    "# Create k-Means clustering model¶\n"
   ]
  },
  {
   "cell_type": "code",
   "execution_count": 21,
   "metadata": {},
   "outputs": [
    {
     "name": "stdout",
     "output_type": "stream",
     "text": [
      "Model is successfully trained!\n"
     ]
    }
   ],
   "source": [
    "#define kMeans clustering algorithm\n",
    "kmeans = KMeans(\n",
    "    featuresCol=assembler.getOutputCol(), \n",
    "    predictionCol=\"clustering\", k=8)\n",
    "model = kmeans.fit(data)\n",
    "print (\"Model is successfully trained!\")"
   ]
  },
  {
   "cell_type": "markdown",
   "metadata": {},
   "source": [
    "# Print centroid for each cluster¶\n"
   ]
  },
  {
   "cell_type": "code",
   "execution_count": 22,
   "metadata": {},
   "outputs": [
    {
     "name": "stdout",
     "output_type": "stream",
     "text": [
      "Cluster Centers: \n",
      "[5.60711289e+01 5.83804487e-01 7.50000000e+04 5.03921211e-01\n",
      " 2.17308043e+00 8.16706183e-01 3.73244574e+00 3.92759438e+00\n",
      " 7.23326646e-01 1.38063104e+00]\n",
      "[6.77522388e+01 6.95522388e-01 1.50000000e+05 4.86567164e-01\n",
      " 2.97611940e+00 4.17313433e+00 3.20746269e+00 4.43880597e+00\n",
      " 6.55223881e-01 3.25223881e+00]\n",
      "[5.31013005e+01 4.17180014e-01 2.50000000e+04 4.80492813e-01\n",
      " 1.41512663e+00 6.08487337e-01 2.31622177e+00 1.45448323e+00\n",
      " 5.93086927e-01 1.11464750e+00]\n",
      "[6.64743041e+01 6.81477516e-01 5.00000000e+04 4.95182013e-01\n",
      " 2.22805139e+00 9.15417559e-02 3.03104925e+00 3.32334047e+00\n",
      " 6.80406852e-01 1.48768737e+00]\n",
      "[6.42970464e+01 5.93248945e-01 1.00000000e+05 4.93670886e-01\n",
      " 3.19156118e+00 8.70886076e-01 3.15105485e+00 3.85400844e+00\n",
      " 7.24894515e-01 1.85738397e+00]\n",
      "[4.49289987e+01 4.51755527e-01 5.00000000e+04 4.93368010e-01\n",
      " 9.16775033e-01 6.95968791e-01 3.32717815e+00 2.51495449e+00\n",
      " 6.54096229e-01 9.80234070e-01]\n",
      "[5.16544885e+01 5.72025052e-01 1.50000000e+05 4.74947808e-01\n",
      " 1.44050104e+00 2.53027140e+00 3.55949896e+00 4.28288100e+00\n",
      " 6.44050104e-01 3.01043841e+00]\n",
      "[4.86125555e+01 5.56753329e-01 1.00000000e+05 4.99682942e-01\n",
      " 2.05707039e+00 2.04755866e+00 3.69562460e+00 4.44451490e+00\n",
      " 7.10209258e-01 2.01141408e+00]\n"
     ]
    }
   ],
   "source": [
    "centers = model.clusterCenters()\n",
    "print(\"Cluster Centers: \")\n",
    "for center in centers:\n",
    "    print(center)"
   ]
  },
  {
   "cell_type": "markdown",
   "metadata": {},
   "source": [
    "# Cluster the data¶\n"
   ]
  },
  {
   "cell_type": "code",
   "execution_count": 25,
   "metadata": {},
   "outputs": [
    {
     "name": "stdout",
     "output_type": "stream",
     "text": [
      "+---------------+--------------------+----------+\n",
      "|   CustomerName|            features|clustering|\n",
      "+---------------+--------------------+----------+\n",
      "|    Aaron Adams|[42.0,0.0,50000.0...|         5|\n",
      "|Aaron Alexander|[40.0,1.0,50000.0...|         5|\n",
      "|    Aaron Allen|[63.0,0.0,25000.0...|         2|\n",
      "|    Aaron Baker|[56.0,1.0,50000.0...|         3|\n",
      "|   Aaron Bryant|[72.0,0.0,75000.0...|         0|\n",
      "+---------------+--------------------+----------+\n",
      "only showing top 5 rows\n",
      "\n",
      "+----------+-----+\n",
      "|clustering|count|\n",
      "+----------+-----+\n",
      "|         0| 5483|\n",
      "|         1|  670|\n",
      "|         2| 2922|\n",
      "|         3| 1868|\n",
      "|         4| 1185|\n",
      "|         5| 3845|\n",
      "|         6|  958|\n",
      "|         7| 1577|\n",
      "+----------+-----+\n",
      "\n",
      "+---------------+----------+\n",
      "|   CustomerName|clustering|\n",
      "+---------------+----------+\n",
      "|    Aaron Adams|         5|\n",
      "|Aaron Alexander|         5|\n",
      "|    Aaron Allen|         2|\n",
      "|    Aaron Baker|         3|\n",
      "|   Aaron Bryant|         0|\n",
      "+---------------+----------+\n",
      "only showing top 5 rows\n",
      "\n"
     ]
    }
   ],
   "source": [
    "prediction = model.transform(data)#cluster given data\n",
    "prediction.show(5)\n",
    "prediction.groupBy(\"clustering\").count().orderBy(\"clustering\").show()#count members in each cluster\n",
    "prediction.select('CustomerName', 'clustering').show(5)#show several clustered data"
   ]
  }
 ],
 "metadata": {
  "kernelspec": {
   "display_name": "Python 3",
   "language": "python",
   "name": "python3"
  },
  "language_info": {
   "codemirror_mode": {
    "name": "ipython",
    "version": 3
   },
   "file_extension": ".py",
   "mimetype": "text/x-python",
   "name": "python",
   "nbconvert_exporter": "python",
   "pygments_lexer": "ipython3",
   "version": "3.7.3"
  }
 },
 "nbformat": 4,
 "nbformat_minor": 2
}
